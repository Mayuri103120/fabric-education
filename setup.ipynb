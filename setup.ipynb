{
 "cells": [
  {
   "cell_type": "markdown",
   "id": "cec8c5ca-7490-41dc-8bfe-ac53590bdb06",
   "metadata": {},
   "source": [
    "# TCP Congestion Control\n",
    "\n",
    "In this notebook you will: \n",
    "\n",
    "-   Reserve resources for this experiment\n",
    "-   Configure your reserved resources\n",
    "-   Access your reserved resources over SSH\n",
    "-   Retrieve files saved on a FABRIC resources\n",
    "-   Visualize the data retrieved\n",
    "-   Extend your FABRIC reservation (in case you need more time) or delete it (in case you finish early)"
   ]
  },
  {
   "cell_type": "markdown",
   "id": "2f06ba21-4fd5-4ec5-b5ef-7356ba92f7f8",
   "metadata": {},
   "source": [
    "### Exercise: Reserve resources\n",
    "\n",
    "In this exercise, we will reserve resources on FABRIC: two hosts on two different network segments, connected by a router."
   ]
  },
  {
   "cell_type": "code",
   "execution_count": null,
   "id": "c08a70e2-610c-4f34-877b-5305da8f9f15",
   "metadata": {},
   "outputs": [],
   "source": [
    "from fabrictestbed_extensions.fablib.fablib import FablibManager as fablib_manager\n",
    "fablib = fablib_manager() \n",
    "conf = fablib.show_config()"
   ]
  },
  {
   "cell_type": "code",
   "execution_count": null,
   "id": "5a9654fb-18e0-4b8d-80a8-830d4e192cfd",
   "metadata": {},
   "outputs": [],
   "source": [
    "!chmod 600 {fablib.get_bastion_key_filename()}\n",
    "!chmod 600 {fablib.get_default_slice_private_key_file()}"
   ]
  },
  {
   "cell_type": "code",
   "execution_count": null,
   "id": "b45548ff-70ed-478e-894f-cb0f2690189a",
   "metadata": {},
   "outputs": [],
   "source": [
    "import os\n",
    "slice_name=\"tcp-congestion-control_\" + os.getenv('NB_USER')"
   ]
  },
  {
   "cell_type": "code",
   "execution_count": null,
   "id": "0188c9c0-baa4-4101-8b18-dc2ac03350a1",
   "metadata": {},
   "outputs": [],
   "source": [
    "try:\n",
    "    slice = fablib.get_slice(slice_name)\n",
    "    print(\"You already have a slice by this name!\")\n",
    "    print(\"If you previously reserved resources, skip to the 'log in to resources' section.\")\n",
    "except:\n",
    "    print(\"You don't have a slice named %s yet.\" % slice_name)\n",
    "    print(\"Continue to the next step to make one.\")\n",
    "    slice = fablib.new_slice(name=slice_name)"
   ]
  },
  {
   "cell_type": "markdown",
   "id": "869557b7-1f15-49bc-9fe4-f241173a6358",
   "metadata": {},
   "source": [
    "Next, we’ll select a random FABRIC site for our experiment. We’ll make sure to get one that has sufficient capacity for the experiment we’re going to run.\n",
    "\n",
    "Once we find a suitable site, we’ll print details about available resources at this site."
   ]
  },
  {
   "cell_type": "code",
   "execution_count": null,
   "id": "2013fddc-4734-4897-a694-0f19f84e8dba",
   "metadata": {},
   "outputs": [],
   "source": [
    "exp_requires = {'core': 3*2, 'nic': 4}\n",
    "while True:\n",
    "    site_name = fablib.get_random_site()\n",
    "    if ( (fablib.resources.get_core_available(site_name) > 1.2*exp_requires['core']) and\n",
    "        (fablib.resources.get_component_available(site_name, 'SharedNIC-ConnectX-6') > 1.2**exp_requires['nic']) ):\n",
    "        break\n",
    "\n",
    "fablib.show_site(site_name)"
   ]
  },
  {
   "cell_type": "code",
   "execution_count": null,
   "id": "ab48cba1-68b4-4881-8a92-2cca0bbc3cd1",
   "metadata": {},
   "outputs": [],
   "source": [
    "# this cell sets up the hosts and router\n",
    "node_names = [\"juliet\", \"router\", \"romeo\"]\n",
    "for n in node_names:\n",
    "    slice.add_node(name=n, site=site_name, cores=2, ram=4, disk=10, image='default_ubuntu_20')"
   ]
  },
  {
   "cell_type": "code",
   "execution_count": null,
   "id": "a8f72060-cb13-4117-8cfe-bd44909d8d26",
   "metadata": {},
   "outputs": [],
   "source": [
    "# this cell sets up the network links\n",
    "nets = [\n",
    "    {\"name\": \"net0\",   \"nodes\": [\"juliet\", \"router\"]},\n",
    "    {\"name\": \"net1\",  \"nodes\": [\"router\", \"romeo\"]}\n",
    "]\n",
    "for n in nets:\n",
    "    ifaces = [slice.get_node(node).add_component(model=\"NIC_Basic\", name=n[\"name\"]).get_interfaces()[0] for node in n['nodes'] ]\n",
    "    slice.add_l2network(name=n[\"name\"], type='L2Bridge', interfaces=ifaces)"
   ]
  },
  {
   "cell_type": "markdown",
   "id": "e8b6571e-0eb7-40fa-920d-f4530ab7e251",
   "metadata": {},
   "source": [
    "The following cell submits our request to the FABRIC site. The output of this cell will update automatically as the status of our request changes.\n",
    "\n",
    "While it is being prepared, the “State” of the slice will appear as “Configuring”.\n",
    "When it is ready, the “State” of the slice will change to “StableOK”."
   ]
  },
  {
   "cell_type": "code",
   "execution_count": null,
   "id": "30b61d67-9af7-439f-9b40-80003a2f8933",
   "metadata": {},
   "outputs": [],
   "source": [
    "slice.submit()"
   ]
  },
  {
   "cell_type": "code",
   "execution_count": null,
   "id": "f537b28b-3436-4d69-9928-80eaa602998c",
   "metadata": {},
   "outputs": [],
   "source": [
    "slice.wait_ssh(progress=True)"
   ]
  },
  {
   "cell_type": "markdown",
   "id": "46f44b64-99a5-4cf0-bc5f-cf2278511d64",
   "metadata": {},
   "source": [
    "### Exercise: Configure resources\n",
    "\n",
    "Next, we need to configure our resources - assign IP addresses to network interfaces, enable forwarding on the router, and install any necessary software.\n",
    "\n",
    "First, we’ll configure IP addresses and add the IP addresses and hostnames to the host files:"
   ]
  },
  {
   "cell_type": "code",
   "execution_count": null,
   "id": "1a53c391-35ca-4e3b-9e45-4466d2349267",
   "metadata": {},
   "outputs": [],
   "source": [
    "from ipaddress import ip_address, IPv4Address, IPv4Network\n",
    "\n",
    "if_conf = {\n",
    "    \"romeo-net1-p1\":   {\"addr\": \"10.10.1.100\", \"subnet\": \"10.10.1.0/24\", \"hostname\": \"romeo\"},\n",
    "    \"router-net1-p1\":  {\"addr\": \"10.10.1.1\", \"subnet\": \"10.10.1.0/24\", \"hostname\": \"router\"},\n",
    "    \"router-net0-p1\":  {\"addr\": \"10.10.2.1\", \"subnet\": \"10.10.2.0/24\", \"hostname\": \"router\"},\n",
    "    \"juliet-net0-p1\":  {\"addr\": \"10.10.2.100\", \"subnet\": \"10.10.2.0/24\", \"hostname\": \"juliet\"}\n",
    "}\n",
    "\n",
    "for iface in slice.get_interfaces():\n",
    "    if_name = iface.get_name()\n",
    "    hostname = if_conf[if_name]['hostname']\n",
    "    iface.ip_addr_add(addr=if_conf[if_name]['addr'], subnet=IPv4Network(if_conf[if_name]['subnet']))\n",
    "    \n",
    "\n",
    "slice.get_node(name='romeo').execute(f\"echo '{if_conf['juliet-net0-p1']['addr']}\\t{if_conf['juliet-net0-p1']['hostname']}' | sudo tee -a /etc/hosts > /dev/null\")\n",
    "slice.get_node(name='juliet').execute(f\"echo '{if_conf['romeo-net1-p1']['addr']}\\t{if_conf['romeo-net1-p1']['hostname']}' | sudo tee -a /etc/hosts > /dev/null\")\n",
    "slice.get_node(name='router').execute(f\"echo '{if_conf['romeo-net1-p1']['addr']}\\t{if_conf['romeo-net1-p1']['hostname']}' | sudo tee -a /etc/hosts > /dev/null\")\n",
    "slice.get_node(name='router').execute(f\"echo '{if_conf['juliet-net0-p1']['addr']}\\t{if_conf['juliet-net0-p1']['hostname']}' | sudo tee -a /etc/hosts > /dev/null\")"
   ]
  },
  {
   "cell_type": "markdown",
   "id": "914ccc59-85c0-4316-b2a7-ce98e976c4d0",
   "metadata": {},
   "source": [
    "Let’s make sure that all of the network interfaces are brought up:"
   ]
  },
  {
   "cell_type": "code",
   "execution_count": null,
   "id": "a05bc426-2727-497d-b7e3-87b5e012e679",
   "metadata": {},
   "outputs": [],
   "source": [
    "for iface in slice.get_interfaces():\n",
    "    iface.ip_link_up()"
   ]
  },
  {
   "cell_type": "markdown",
   "id": "bae166d7-3021-4b04-afac-b19b417ae424",
   "metadata": {},
   "source": [
    "And, we’ll enable IP forwarding on the router:"
   ]
  },
  {
   "cell_type": "code",
   "execution_count": null,
   "id": "01731641-d2d4-4a3b-98b2-f1b8d8566eef",
   "metadata": {},
   "outputs": [],
   "source": [
    "for n in ['router']:\n",
    "    slice.get_node(name=n).execute(\"sudo sysctl -w net.ipv4.ip_forward=1\")"
   ]
  },
  {
   "cell_type": "markdown",
   "id": "e1f2f6bf-2358-4a59-a9e0-16fa7e00c527",
   "metadata": {},
   "source": [
    "Then, we’ll add routes so that romeo knows how to reach juliet, and vice versa." 
   ]
  },
  {
   "cell_type": "code",
   "execution_count": null,
   "id": "b0c505ab-0d7b-4819-9e21-7a45c78c3379",
   "metadata": {},
   "outputs": [],
   "source": [
    "rt_conf = [\n",
    "    {\"name\": \"romeo\",   \"addr\": \"10.10.2.0/24\", \"gw\": \"10.10.1.1\"},\n",
    "    {\"name\": \"juliet\",  \"addr\": \"10.10.1.0/24\", \"gw\": \"10.10.2.1\"}\n",
    "]\n",
    "for rt in rt_conf:\n",
    "    slice.get_node(name=rt['name']).ip_route_add(subnet=IPv4Network(rt['addr']), gateway=rt['gw'])\n"
   ]
  },
  {
   "cell_type": "markdown",
   "id": "b7333505-487f-457a-b9bd-7d6d0226ad16",
   "metadata": {},
   "source": [
    "Finally, we’ll install some software. For this experiment, we will need to install the net-tools package (which provides the ifconfig command)."
   ]
  },
  {
   "cell_type": "code",
   "execution_count": null,
   "id": "cd5949a3-a1f9-4eaf-bcd6-87184b162214",
   "metadata": {},
   "outputs": [],
   "source": [
    "for n in ['romeo', 'router', 'juliet']:\n",
    "    slice.get_node(name=n).execute(\"sudo apt update; sudo apt -y install net-tools\", quiet=True)"
   ]
  },
  {
   "cell_type": "markdown",
   "id": "0fe6c2a5-fcae-4329-84d2-45dba9f2108f",
   "metadata": {},
   "source": [
    "### Exercise: Log in to resources\n",
    "Now, we are finally ready to log in to our resources over SSH! Run the following cells, and observe the table output - you will see an SSH command for each of the nodes in your topology."
   ]
  },
  {
   "cell_type": "code",
   "execution_count": null,
   "id": "fbe4d79b-a1e9-4e5a-bb2e-de5353617fae",
   "metadata": {},
   "outputs": [],
   "source": [
    "import pandas as pd\n",
    "pd.set_option('display.max_colwidth', None)\n",
    "ssh_str = 'ssh -i ' + slice.get_slice_private_key_file() + \\\n",
    "    ' -J ' + fablib.get_bastion_username() + '@' + fablib.get_bastion_public_addr() + \\\n",
    "    ' -F /home/fabric/work/fabric_config/ssh_config '\n",
    "slice_info = [{'Name': n.get_name(), 'SSH command': ssh_str + n.get_username() + '@' + str(n.get_management_ip())} for n in slice.get_nodes()]\n",
    "pd.DataFrame(slice_info).set_index('Name')"
   ]
  },
  {
   "cell_type": "markdown",
   "id": "6fb2d3af-e1ca-4309-b526-676c7ea6ad95",
   "metadata": {},
   "source": [
    "Now, you can open an SSH session on any of the nodes as follows:\n",
    "\n",
    "-   In Jupyter, from the menu bar, use File \\> New \\> Terminal to open a new terminal.\n",
    "-   Copy an SSH command from the table, and paste it into the terminal. (Note that each SSH command is a single line, even if the display wraps the text to a second line! When you copy and paste it, paste it all together.)"
   ]
  },
  {
   "cell_type": "markdown",
   "id": "211c8200-249a-46f3-8c92-26172213d0e2",
   "metadata": {},
   "source": [
    "You can repeat this process (open several terminals) to start a session on each host and the router. Each terminal session will have a tab in the Jupyter environment, so that you can easily switch between them.\n",
    "\n",
    "Now you can continue to perform the TCP congestion control experiment on these host sessions."
   ]
  },
  {
   "cell_type": "markdown",
   "id": "dbfae629-5f4b-4d07-b620-41aa4508db17",
   "metadata": {},
   "source": [
    "### Exercise: Data Visualization\n",
    "\n",
    "To visualize the results of your experiment, you should first retrieve the data file `sender-ss.csv` from host romeo. To do that, execute the following command: "
   ]
  },
  {
   "cell_type": "code",
   "execution_count": null,
   "id": "8e10d69d-6fdc-4b1f-80d1-14987aea5001",
   "metadata": {},
   "outputs": [],
   "source": [
    "slice.get_node(\"romeo\").download_file(\"/home/fabric/work/sender-ss.csv\", \"/home/ubuntu/sender-ss.csv\")"
   ]
  },
  {
   "cell_type": "markdown",
   "id": "612d1dfb-5a1d-4037-b0ff-7cd43eb6a781",
   "metadata": {},
   "source": [
    "In the Jupyter environment, click on the folder icon in the file browser on the left to make sure that you are located in your “Jupyter home” directory.\n",
    "\n",
    "Then, you should see the `sender-ss.csv` file appear in the Jupyter file browser on the left.\n",
    "\n",
    "Before running the following Python script to plot the `sender-ss.csv` file, in the Jupyter environment make sure that your `setup.ipynb` and `sender-ss.csv` files are on the same path in the file directory."
   ]
  },
  {
   "cell_type": "code",
   "execution_count": null,
   "id": "750ed07a-184b-4318-9e97-3d070e0129a0",
   "metadata": {},
   "outputs": [],
   "source": [
    "import pandas as pd\n",
    "import matplotlib.pyplot as plt\n",
    "\n",
    "df = pd.read_csv(\"sender-ss.csv\", names=['time', 'sender', 'retx_unacked', 'retx_cum', 'cwnd', 'ssthresh'])\n",
    "\n",
    "# exclude the \"control\" flow\n",
    "s = df.groupby('sender').size()\n",
    "df_filtered = df[df.groupby(\"sender\")['sender'].transform('size') > 100]\n",
    "\n",
    "senders = df_filtered.sender.unique()\n",
    "\n",
    "time_min = df_filtered.time.min()\n",
    "cwnd_max = 1.1*df_filtered[df_filtered.time - time_min >=2].cwnd.max()\n",
    "dfs = [df_filtered[df_filtered.sender==senders[i]] for i in range(3)]\n",
    "\n",
    "fig, axs = plt.subplots(len(senders), sharex=True, figsize=(12,8))\n",
    "fig.suptitle('CWND over time')\n",
    "for i in range(len(senders)):\n",
    "    if i==len(senders)-1:\n",
    "        axs[i].plot(dfs[i]['time']-time_min, dfs[i]['cwnd'], label=\"cwnd\")\n",
    "        axs[i].plot(dfs[i]['time']-time_min, dfs[i]['ssthresh'], label=\"ssthresh\")\n",
    "        axs[i].set_ylim([0,cwnd_max])\n",
    "        axs[i].set_xlabel(\"Time (s)\");\n",
    "    else:\n",
    "        axs[i].plot(dfs[i]['time']-time_min, dfs[i]['cwnd'])\n",
    "        axs[i].plot(dfs[i]['time']-time_min, dfs[i]['ssthresh'])\n",
    "        axs[i].set_ylim([0,cwnd_max])\n",
    "\n",
    "\n",
    "plt.tight_layout();\n",
    "fig.legend(loc='upper right', ncol=2);"
   ]
  },
  {
   "cell_type": "markdown",
   "id": "f30761c2-e740-4c3a-952a-2286bef1685a",
   "metadata": {},
   "source": [
    "You can return to this exercise and execute the above steps to visuaize results of TCP Cubic, TCP Vegas and TCP BBR."
   ]
  },
  {
   "cell_type": "markdown",
   "id": "5b781de1-6e90-458a-adc7-88fd773b02a1",
   "metadata": {},
   "source": [
    "### Exercise: Transfer .pcap files from a FABRIC host\n"
   ]
  },
  {
   "cell_type": "markdown",
   "id": "7e6cb812-eecc-4dca-9262-5fcf194068b3",
   "metadata": {},
   "source": [
    "In the TCP ECN exercise, retrieve the `romeo-tcp-ecn.pcap` and `juliet-tcp-ecn.pcap` file from the FABRIC hosts romeo and juliet use the following commands:"
   ]
  },
  {
   "cell_type": "code",
   "execution_count": null,
   "id": "873abd8a-f89d-4044-9cee-21cc5a91563c",
   "metadata": {},
   "outputs": [],
   "source": [
    "romeo_pcap = \"/home/ubuntu/%s-tcp-ecn.pcap\" % slice.get_node(\"romeo\").execute(\"hostname\", quiet=True)[0].strip()"
   ]
  },
  {
   "cell_type": "code",
   "execution_count": null,
   "id": "4fb42c2e-0806-498a-878a-1589d71ba3e0",
   "metadata": {},
   "outputs": [],
   "source": [
    "slice.get_node(\"romeo\").download_file(\"/home/fabric/work/romeo-tcp-ecn.pcap\", romeo_pcap)"
   ]
  },
  {
   "cell_type": "code",
   "execution_count": null,
   "id": "d21b8fcb-fbdf-4711-8b09-c2d40d08655c",
   "metadata": {},
   "outputs": [],
   "source": [
    "juliet_pcap = \"/home/ubuntu/%s-tcp-ecn.pcap\" % slice.get_node(\"juliet\").execute(\"hostname\", quiet=True)[0].strip()"
   ]
  },
  {
   "cell_type": "code",
   "execution_count": null,
   "id": "7ffe9121-0191-4095-80d7-5b7886057111",
   "metadata": {},
   "outputs": [],
   "source": [
    "slice.get_node(\"juliet\").download_file(\"/home/fabric/work/juliet-tcp-ecn.pcap\", juliet_pcap)"
   ]
  },
  {
   "cell_type": "markdown",
   "id": "515cac4d-405e-4776-8036-330d8ec4c1c9",
   "metadata": {},
   "source": [
    "Then in the Jupyter environment, click on the folder icon in the file browser on the left to make sure that you are located in your “Jupyter home” directory.\n",
    "\n",
    "Then, you should see the above .pcap files appear in the Jupyter file browser on the left. You can now download this file from the Jupyter environment to your own laptop to analyze them in Wireshark."
   ]
  },
  {
   "cell_type": "markdown",
   "id": "cb804d97-d950-44b1-8d9a-ab671cdfc8bf",
   "metadata": {},
   "source": [
    "### Delete your slice resources\n",
    "\n",
    "If you finished your experiment early, you should delete your slice! The following cell deletes all the resources in your slice, freeing them for other experimenters."
   ]
  },
  {
   "cell_type": "code",
   "execution_count": null,
   "id": "594f5824-f6b8-4fd4-beb7-875c6a99987d",
   "metadata": {},
   "outputs": [],
   "source": [
    "slice.delete()"
   ]
  },
  {
   "cell_type": "code",
   "execution_count": null,
   "id": "295eec47-b97c-49a2-8d6b-d0e32444570f",
   "metadata": {},
   "outputs": [],
   "source": [
    "slice.show()"
   ]
  }
 ],
 "metadata": {
  "kernelspec": {
   "display_name": "Python 3 (ipykernel)",
   "language": "python",
   "name": "python3"
  },
  "language_info": {
   "codemirror_mode": {
    "name": "ipython",
    "version": 3
   },
   "file_extension": ".py",
   "mimetype": "text/x-python",
   "name": "python",
   "nbconvert_exporter": "python",
   "pygments_lexer": "ipython3",
   "version": "3.9.7"
  }
 },
 "nbformat": 4,
 "nbformat_minor": 5
}
